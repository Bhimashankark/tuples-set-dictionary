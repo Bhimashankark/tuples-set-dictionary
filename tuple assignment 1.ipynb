{
 "cells": [
  {
   "cell_type": "markdown",
   "id": "a65b02f1-1fb5-4046-9dc6-27b54155475f",
   "metadata": {},
   "source": [
    "Q1. What are the characteristics of the tuples? Is tuple immutable?\n",
    "\n",
    " "
   ]
  },
  {
   "cell_type": "markdown",
   "id": "e1ff1173-4df9-410d-9c08-b93949993722",
   "metadata": {},
   "source": [
    "answer : Tuple items are ordered, immutable, and allow duplicate values. and tuples are immutable."
   ]
  },
  {
   "cell_type": "markdown",
   "id": "04c270ad-279f-4c4e-a66c-1b27363c18b7",
   "metadata": {},
   "source": [
    "Q2. What are the two tuple methods in python? Give an example of each method. Give a reason why \n",
    "tuples have only two in-built methods as compared to Lists\n",
    "answer : count() and index() are the two tuple methods in python"
   ]
  },
  {
   "cell_type": "code",
   "execution_count": 23,
   "id": "da4fdab8-194b-4d78-bee7-335b5ba4a511",
   "metadata": {},
   "outputs": [
    {
     "name": "stdout",
     "output_type": "stream",
     "text": [
      "3\n"
     ]
    }
   ],
   "source": [
    " ## 1.count()\n",
    "   \n",
    "t = (1, 2, 3, 1, 2, 1)\n",
    "count = t.count(1)\n",
    "print(count)\n",
    "\n",
    "  "
   ]
  },
  {
   "cell_type": "code",
   "execution_count": 24,
   "id": "1d98c56d-e9d8-49ea-b071-7c2e4dad439f",
   "metadata": {},
   "outputs": [
    {
     "name": "stdout",
     "output_type": "stream",
     "text": [
      "1\n"
     ]
    }
   ],
   "source": [
    "## 2. index()\n",
    "t = (1, 2, 3, 1, 2, 1)\n",
    "index = t.index(2)\n",
    "print(index)\n"
   ]
  },
  {
   "cell_type": "markdown",
   "id": "1d44975b-b91d-4997-b4c2-741b737884a8",
   "metadata": {},
   "source": [
    "The reason why tuples have fewer in-built methods as compared to lists is because tuples are designed to be immutable, meaning that their elements cannot be changed once they are created. This is in contrast to lists, which are mutable and therefore require more in-built methods to manipulate their elements. Additionally, tuples are often used to store small and fixed number of elements, whereas lists are used to store large and dynamic number of elements."
   ]
  },
  {
   "cell_type": "markdown",
   "id": "9e2f5257-c831-49e9-9223-e352617dd63f",
   "metadata": {},
   "source": [
    "Q3.  Which collection datatypes in python do not allow duplicate items? Write a code using a set to remove\n",
    "duplicates from the given list.\n",
    "\n",
    "\n",
    "List = [1, 1, 1, 2, 1, 3, 1, 4, 2, 1, 2, 2, 2, 3, 2, 4, 3, 1, 3, 2, 3, 3, 3, 4, 4, 1, 4, 2, 4, 3, 4, 4]"
   ]
  },
  {
   "cell_type": "markdown",
   "id": "12991020-80bb-4191-ba9b-ecd04ef6ad98",
   "metadata": {},
   "source": [
    "answer : the set datatype is a collection that does not allow duplicate items.\n"
   ]
  },
  {
   "cell_type": "code",
   "execution_count": 4,
   "id": "f6a856f1-ae49-4767-90d6-fe4c3cce5deb",
   "metadata": {},
   "outputs": [
    {
     "name": "stdout",
     "output_type": "stream",
     "text": [
      "Original list: [1, 1, 1, 2, 1, 3, 1, 4, 2, 1, 2, 2, 2, 3, 2, 4, 3, 1, 3, 2, 3, 3, 3, 4, 4, 1, 4, 2, 4, 3, 4, 4]\n",
      "List without duplicates: [1, 2, 3, 4]\n"
     ]
    }
   ],
   "source": [
    "def remove_duplicates(input_list):\n",
    "    return list(set(input_list))\n",
    "\n",
    "original_list = [1, 1, 1, 2, 1, 3, 1, 4, 2, 1, 2, 2, 2, 3, 2, 4, 3, 1, 3, 2, 3, 3, 3, 4, 4, 1, 4, 2, 4, 3, 4, 4]\n",
    "print(\"Original list:\", original_list)\n",
    "\n",
    "no_duplicates_list = remove_duplicates(original_list)\n",
    "print(\"List without duplicates:\", no_duplicates_list)\n"
   ]
  },
  {
   "cell_type": "markdown",
   "id": "cb9844a4-636b-41be-ad98-15e537e2a667",
   "metadata": {},
   "source": [
    "Q4. Explain the difference between the union() and update() methods for a set. Give an example of\n",
    "each method."
   ]
  },
  {
   "cell_type": "markdown",
   "id": "43e15553-d8ce-4602-999a-875b6c7ad37b",
   "metadata": {},
   "source": [
    "answer : The union() and update() methods are both used to merge elements from one set into another set. However, the difference lies in how the elements are combined.\n",
    "\n",
    "The union() method returns a new set that is the result of combining the elements from two sets. It does not modify either of the original sets. Here's an example:\n"
   ]
  },
  {
   "cell_type": "code",
   "execution_count": 8,
   "id": "6b0bc07e-d6a8-4dab-8c0f-aa69a98ccb37",
   "metadata": {},
   "outputs": [
    {
     "name": "stdout",
     "output_type": "stream",
     "text": [
      "result after union {1, 2, 3, 4, 5, 6, 7, 8}\n"
     ]
    }
   ],
   "source": [
    "##example for union() method\n",
    "set1 = {1,2,3,4}\n",
    "set2 = (5,6,7,8)\n",
    "\n",
    "result=set1.union(set2)\n",
    "print(\"result after union\",result)"
   ]
  },
  {
   "cell_type": "markdown",
   "id": "c1341489-ec00-406e-8edd-935cd75eb3a8",
   "metadata": {},
   "source": [
    "The update() method, on the other hand, modifies the set on which it is called by adding all the elements from the other set. Here's an example:\n"
   ]
  },
  {
   "cell_type": "code",
   "execution_count": 17,
   "id": "b080f7fb-be1a-4c70-ad04-cc57fd09240e",
   "metadata": {},
   "outputs": [
    {
     "name": "stdout",
     "output_type": "stream",
     "text": [
      "the updated set {1, 2, 3, 4, 5, 6, 7, 8}\n"
     ]
    }
   ],
   "source": [
    "##example for update() method\n",
    "set1 = {1,2,3,4}\n",
    "set2 = {5,6,7,8}\n",
    " \n",
    "set1.update(set2)   \n",
    "print(\"the updated set\",set1)"
   ]
  },
  {
   "cell_type": "markdown",
   "id": "f5192097-3cb9-47a9-a6bd-a2e4af86d4be",
   "metadata": {},
   "source": [
    "Q5. What is a dictionary? Give an example. Also, state whether a dictionary is ordered or unordered"
   ]
  },
  {
   "cell_type": "markdown",
   "id": "7e90d13f-e01b-419e-9298-783055061a9f",
   "metadata": {},
   "source": [
    "A dictionary in Python is a collection of key-value pairs, where each key maps to a unique value. A key is used to look up its corresponding value in the dictionary.\n",
    "\n",
    "Dictionaries are defined using curly braces {} and are separated by commas. Here's an example:"
   ]
  },
  {
   "cell_type": "code",
   "execution_count": 18,
   "id": "500aac8f-5550-459d-96ec-1d69fe158a8c",
   "metadata": {},
   "outputs": [
    {
     "name": "stdout",
     "output_type": "stream",
     "text": [
      "Name: John Doe\n",
      "Age: 30\n",
      "Gender: Male\n",
      "Country: United States\n"
     ]
    }
   ],
   "source": [
    "person = {\n",
    "    \"name\": \"John Doe\",\n",
    "    \"age\": 30,\n",
    "    \"gender\": \"Male\",\n",
    "    \"country\": \"United States\"\n",
    "}\n",
    "\n",
    "print(\"Name:\", person[\"name\"])\n",
    "print(\"Age:\", person[\"age\"])\n",
    "print(\"Gender:\", person[\"gender\"])\n",
    "print(\"Country:\", person[\"country\"])\n"
   ]
  },
  {
   "cell_type": "markdown",
   "id": "1573ff2c-ed38-49f3-8f0c-3ae29adc2147",
   "metadata": {},
   "source": [
    "Dictionaries in Python are unordered, which means that the order in which the key-value pairs are stored in the dictionary may not be the same as the order in which they were added. This is different from a list, where elements are stored in a specific order."
   ]
  },
  {
   "cell_type": "markdown",
   "id": "fbe0caf9-91b0-4d71-b90c-853334bc58b3",
   "metadata": {},
   "source": [
    "Q6. Can we create a nested dictionary? If so, please give an example by creating a simple one-level\n",
    "nested dictionary."
   ]
  },
  {
   "cell_type": "markdown",
   "id": "4f20baa2-9329-4ba0-ab82-a89fe1676eee",
   "metadata": {},
   "source": [
    "Yes, it is possible to create a nested dictionary in Python. A nested dictionary is a dictionary that contains another dictionary as one of its elements.\n",
    "\n",
    "Here's an example of a simple one-level nested dictionary"
   ]
  },
  {
   "cell_type": "code",
   "execution_count": 19,
   "id": "d4e53e7f-f10a-431c-b6ee-84747178d20c",
   "metadata": {},
   "outputs": [
    {
     "name": "stdout",
     "output_type": "stream",
     "text": [
      "Name: vedh\n",
      "Age: 3\n",
      "Address: {'street': 'kanakadas badavane', 'city': 'vijayapura', 'state': 'karnataka', 'zipcode': '586101'}\n",
      "Street: kanakadas badavane\n",
      "City: vijayapura\n",
      "State: karnataka\n",
      "Zipcode: 586101\n"
     ]
    }
   ],
   "source": [
    "person = {\n",
    "    \"name\": \"vedh\",\n",
    "    \"age\": 3,\n",
    "    \"address\": { \"street\": \"kanakadas badavane\", \"city\": \"vijayapura\",\"state\": \"karnataka\", \"zipcode\": \"586101\"}\n",
    "}\n",
    "\n",
    "print(\"Name:\", person[\"name\"])\n",
    "print(\"Age:\", person[\"age\"])\n",
    "print(\"Address:\", person[\"address\"])\n",
    "print(\"Street:\", person[\"address\"][\"street\"])\n",
    "print(\"City:\", person[\"address\"][\"city\"])\n",
    "print(\"State:\", person[\"address\"][\"state\"])\n",
    "print(\"Zipcode:\", person[\"address\"][\"zipcode\"])\n"
   ]
  },
  {
   "cell_type": "markdown",
   "id": "6f701652-184c-4173-9e79-75e8604a8fe5",
   "metadata": {},
   "source": [
    "Q7. Using setdefault() method, create key named topics in the given dictionary and also add the value of\n",
    "the key as this list ['Python', 'Machine Learning’, 'Deep Learning']\n",
    "\n",
    "\n",
    "dict1 = {'language' : 'Python', 'course': 'Data Science Masters'}"
   ]
  },
  {
   "cell_type": "code",
   "execution_count": 20,
   "id": "a0f7ecf1-171b-48c0-ae21-26bb4d852899",
   "metadata": {},
   "outputs": [
    {
     "name": "stdout",
     "output_type": "stream",
     "text": [
      "{'language': 'Python', 'course': 'Data Science Masters', 'topics': ['Python', 'Machine Learning', 'Deep Learning']}\n"
     ]
    }
   ],
   "source": [
    "dict1 = {'language' : 'Python', 'course': 'Data Science Masters'}\n",
    "\n",
    "dict1.setdefault('topics', ['Python', 'Machine Learning', 'Deep Learning'])\n",
    "\n",
    "print(dict1)\n"
   ]
  },
  {
   "cell_type": "markdown",
   "id": "43f2796a-4763-4888-9e65-ce318aa255f4",
   "metadata": {},
   "source": [
    "Q8. What are the three view objects in dictionaries? Use the three in-built methods in python to display\n",
    "these three view objects for the given dictionary.\n",
    "\n",
    "\n",
    "dict1 = {'Sport': 'Cricket' , 'Teams': ['India', 'Australia', 'England', 'South Africa', 'Sri Lanka', 'New Zealand']}"
   ]
  },
  {
   "cell_type": "markdown",
   "id": "1b22f85a-eb90-4718-ba76-6407d3aa4ec7",
   "metadata": {},
   "source": [
    "in dictionaries, there are three view objects that provide different views of the keys, values, and items of a dictionary:\n",
    "\n",
    "keys(): returns a view object that displays a list of all the keys in the dictionary.\n",
    "values(): returns a view object that displays a list of all the values in the dictionary.\n",
    "items(): returns a view object that displays a list of all the items (key-value pairs) in the dictionary."
   ]
  },
  {
   "cell_type": "code",
   "execution_count": 21,
   "id": "eb32c015-e37a-4a62-9637-ad177a674ce5",
   "metadata": {},
   "outputs": [
    {
     "name": "stdout",
     "output_type": "stream",
     "text": [
      "Dictionary keys: dict_keys(['Sport', 'Teams'])\n",
      "Dictionary values: dict_values(['Cricket', ['India', 'Australia', 'England', 'South Africa', 'Sri Lanka', 'New Zealand']])\n",
      "Dictionary items: dict_items([('Sport', 'Cricket'), ('Teams', ['India', 'Australia', 'England', 'South Africa', 'Sri Lanka', 'New Zealand'])])\n"
     ]
    }
   ],
   "source": [
    "dict1 = {'Sport': 'Cricket' , 'Teams': ['India', 'Australia', 'England', 'South Africa', 'Sri Lanka', 'New Zealand']}\n",
    "\n",
    "print(\"Dictionary keys:\", dict1.keys())\n",
    "print(\"Dictionary values:\", dict1.values())\n",
    "print(\"Dictionary items:\", dict1.items())\n"
   ]
  },
  {
   "cell_type": "code",
   "execution_count": null,
   "id": "2393e0ae-7621-4f4f-b555-996ed47a1f22",
   "metadata": {},
   "outputs": [],
   "source": []
  }
 ],
 "metadata": {
  "kernelspec": {
   "display_name": "Python 3 (ipykernel)",
   "language": "python",
   "name": "python3"
  },
  "language_info": {
   "codemirror_mode": {
    "name": "ipython",
    "version": 3
   },
   "file_extension": ".py",
   "mimetype": "text/x-python",
   "name": "python",
   "nbconvert_exporter": "python",
   "pygments_lexer": "ipython3",
   "version": "3.10.8"
  }
 },
 "nbformat": 4,
 "nbformat_minor": 5
}
